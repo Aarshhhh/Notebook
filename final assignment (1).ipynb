{
 "cells": [
  {
   "cell_type": "markdown",
   "id": "648a55d9-8534-47dd-89b5-17b590c45f2a",
   "metadata": {},
   "source": [
    "# Notebook"
   ]
  },
  {
   "cell_type": "code",
   "execution_count": null,
   "id": "4f2ae89f-1f5d-4e94-a339-e7548eaefa6a",
   "metadata": {},
   "outputs": [],
   "source": [
    "*hello my name is aarsh maurya i am 3rd yr student of electronics and intrumentation engineering and i am so much interested to learn about neural networks*"
   ]
  },
  {
   "cell_type": "code",
   "execution_count": null,
   "id": "a7508aa3-5d2a-4456-8dbe-ab2e1c0c1043",
   "metadata": {},
   "outputs": [],
   "source": [
    "data science languages:-\n",
    "+python\n",
    "+R\n",
    "+SQL\n",
    "+scala\n",
    "+java etc."
   ]
  },
  {
   "cell_type": "code",
   "execution_count": null,
   "id": "7d653b0d-bde7-4d85-a4d1-7dc08b70f9dd",
   "metadata": {},
   "outputs": [],
   "source": [
    "for python\n",
    "+ panda\n",
    "*numpy\n",
    "*seaborn\n",
    "for R\n",
    "*ggplot\n",
    "for scala\n",
    "*vegas\n",
    "*big dl"
   ]
  },
  {
   "cell_type": "markdown",
   "id": "c578af68-6641-40bb-90aa-1a31f1807027",
   "metadata": {},
   "source": [
    "|data managment|data visualisation|data trans. and intr.|code asset manag.|data asset manag.|develop env.|execution evn.|model deployment|model monitoring and assesment|\n",
    "|--------------|:-----------------|:--------------------|:-----|:-----|:--------|:-----|:-|-:|\n",
    "|hadoop|hue|apache airflow|github|apache atlas|jupyter notebook|apache spark|prediction io|prometheus\n",
    "|mySQl|kibana|apache katka|gitlab|   |jupyter labs| | |Model DB\n",
    "|MONGODB|apache superset|"
   ]
  },
  {
   "cell_type": "code",
   "execution_count": null,
   "id": "1815eb7e-e7af-41b0-90da-b0d9a71ee276",
   "metadata": {},
   "outputs": [],
   "source": [
    "20+3*8"
   ]
  },
  {
   "cell_type": "code",
   "execution_count": null,
   "id": "f320c2af-f5f9-4d23-bad7-5c23ad68a460",
   "metadata": {},
   "outputs": [],
   "source": [
    "print(209+6*9)"
   ]
  },
  {
   "cell_type": "code",
   "execution_count": 11,
   "id": "3b85f821-2aae-48dd-aaa1-ea7d3db104ba",
   "metadata": {},
   "outputs": [
    {
     "name": "stdin",
     "output_type": "stream",
     "text": [
      "Enter the hours: 2\n",
      "Enter the minutes: 6\n"
     ]
    },
    {
     "name": "stdout",
     "output_type": "stream",
     "text": [
      "Total Minutes= 126\n"
     ]
    }
   ],
   "source": [
    "def convert_time(hrs, min):\n",
    "    min= hrs*60+min\n",
    "    return min\n",
    "h=int(input(\"Enter the hours:\"))\n",
    "m=int(input(\"Enter the minutes:\"))\n",
    "m=convert_time(h,m)\n",
    "print(\"Total Minutes=\",m)"
   ]
  },
  {
   "cell_type": "code",
   "execution_count": null,
   "id": "ae764a9d-62b5-402a-b27d-b424f59bb073",
   "metadata": {},
   "outputs": [],
   "source": []
  }
 ],
 "metadata": {
  "kernelspec": {
   "display_name": "Python 3 (ipykernel)",
   "language": "python",
   "name": "python3"
  },
  "language_info": {
   "codemirror_mode": {
    "name": "ipython",
    "version": 3
   },
   "file_extension": ".py",
   "mimetype": "text/x-python",
   "name": "python",
   "nbconvert_exporter": "python",
   "pygments_lexer": "ipython3",
   "version": "3.9.13"
  }
 },
 "nbformat": 4,
 "nbformat_minor": 5
}
